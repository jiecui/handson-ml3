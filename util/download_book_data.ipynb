{
 "cells": [
  {
   "cell_type": "markdown",
   "metadata": {},
   "source": [
    "# Download data for Hands-on Machine Learning with Scikit-learn, Keras, and TensorFlow, 3rd Edition\n"
   ]
  },
  {
   "cell_type": "markdown",
   "metadata": {},
   "source": [
    "Copyright 2025 Richard J. Cui Created: Sat 01/11/2025 19:07:09.989634 PM\n",
    "Revision: 0.1 Date: Sat 01/11/2025 19:07:09.989634 PM\n",
    "\n",
    "Rocky Creek Dr. NE\n",
    "Rochester, MN 55906, USA\n",
    "\n",
    "Email: richard.jie.cui@gmail.com"
   ]
  },
  {
   "cell_type": "markdown",
   "metadata": {},
   "source": [
    "## Import"
   ]
  },
  {
   "cell_type": "code",
   "execution_count": 2,
   "metadata": {},
   "outputs": [],
   "source": [
    "import os\n",
    "from ageron_homl3 import download_lifesat, get_data_root"
   ]
  },
  {
   "cell_type": "markdown",
   "metadata": {},
   "source": [
    "## Chapter 1 The Machine Learning Landscape"
   ]
  },
  {
   "cell_type": "markdown",
   "metadata": {},
   "source": [
    "### Life satisfaction data"
   ]
  },
  {
   "cell_type": "code",
   "execution_count": 3,
   "metadata": {},
   "outputs": [
    {
     "name": "stdout",
     "output_type": "stream",
     "text": [
      "Downloading oecd_bli_2015.csv\n",
      "Downloading gdp_per_capita.csv\n"
     ]
    }
   ],
   "source": [
    "data_root=get_data_root()\n",
    "data_path= os.path.join(data_root,  \"lifesat\")\n",
    "download_lifesat(data_path)"
   ]
  }
 ],
 "metadata": {
  "kernelspec": {
   "display_name": "HOML3",
   "language": "python",
   "name": "homl3"
  },
  "language_info": {
   "codemirror_mode": {
    "name": "ipython",
    "version": 3
   },
   "file_extension": ".py",
   "mimetype": "text/x-python",
   "name": "python",
   "nbconvert_exporter": "python",
   "pygments_lexer": "ipython3",
   "version": "3.10.8"
  }
 },
 "nbformat": 4,
 "nbformat_minor": 2
}
